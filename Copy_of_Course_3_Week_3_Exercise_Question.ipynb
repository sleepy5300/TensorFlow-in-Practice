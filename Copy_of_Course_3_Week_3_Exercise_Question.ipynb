{
  "nbformat": 4,
  "nbformat_minor": 0,
  "metadata": {
    "colab": {
      "name": "Copy of NLP Course - Week 3 Exercise Question.ipynb",
      "provenance": [],
      "include_colab_link": true
    },
    "kernelspec": {
      "name": "python3",
      "display_name": "Python 3"
    },
    "accelerator": "GPU"
  },
  "cells": [
    {
      "cell_type": "markdown",
      "metadata": {
        "id": "view-in-github",
        "colab_type": "text"
      },
      "source": [
        "<a href=\"https://colab.research.google.com/github/sleepy5300/TensorFlow-in-Practice-Specialization/blob/master/Copy_of_Course_3_Week_3_Exercise_Question.ipynb\" target=\"_parent\"><img src=\"https://colab.research.google.com/assets/colab-badge.svg\" alt=\"Open In Colab\"/></a>"
      ]
    },
    {
      "cell_type": "code",
      "metadata": {
        "id": "hmA6EzkQJ5jt",
        "colab_type": "code",
        "colab": {}
      },
      "source": [
        "import json\n",
        "import tensorflow as tf\n",
        "import csv\n",
        "import random\n",
        "import numpy as np\n",
        "\n",
        "from tensorflow.keras.preprocessing.text import Tokenizer\n",
        "from tensorflow.keras.preprocessing.sequence import pad_sequences\n",
        "from tensorflow.keras.utils import to_categorical\n",
        "from tensorflow.keras import regularizers\n",
        "\n",
        "\n",
        "embedding_dim = 100\n",
        "max_length = 16\n",
        "trunc_type='post'\n",
        "padding_type='post'\n",
        "oov_tok = \"<OOV>\"\n",
        "training_size=160000 #Experiment using smaller values (i.e. 16000), but don't forget to train on at least 160000 to see the best effects\n",
        "test_portion=.1\n",
        "\n",
        "corpus = []\n"
      ],
      "execution_count": 0,
      "outputs": []
    },
    {
      "cell_type": "code",
      "metadata": {
        "id": "bM0l_dORKqE0",
        "colab_type": "code",
        "outputId": "3501ed1d-5f62-4942-8a17-ae49dd07ac07",
        "colab": {
          "base_uri": "https://localhost:8080/",
          "height": 204
        }
      },
      "source": [
        "\n",
        "# Note that I cleaned the Stanford dataset to remove LATIN1 encoding to make it easier for Python CSV reader\n",
        "# You can do that yourself with:\n",
        "# iconv -f LATIN1 -t UTF8 training.1600000.processed.noemoticon.csv -o training_cleaned.csv\n",
        "# I then hosted it on my site to make it easier to use in this notebook\n",
        "\n",
        "!wget --no-check-certificate \\\n",
        "    https://storage.googleapis.com/laurencemoroney-blog.appspot.com/training_cleaned.csv \\\n",
        "    -O /tmp/training_cleaned.csv\n",
        "\n",
        "num_sentences = 0\n",
        "\n",
        "with open(\"/tmp/training_cleaned.csv\") as csvfile:\n",
        "    reader = csv.reader(csvfile, delimiter=',')\n",
        "    for row in reader:\n",
        "      # Your Code here. Create list items where the first item is the text, found in row[5], and the second is the label. Note that the label is a '0' or a '4' in the text. When it's the former, make\n",
        "      # your label to be 0, otherwise 1. Keep a count of the number of sentences in num_sentences\n",
        "        list_item=[]\n",
        "        list_item.append(row[5])\n",
        "        if row[0] == '0':\n",
        "          list_item.append(0)\n",
        "        else:\n",
        "          list_item.append(1)\n",
        "        \n",
        "        num_sentences = num_sentences + 1\n",
        "        corpus.append(list_item)\n",
        "\n",
        "\n"
      ],
      "execution_count": 0,
      "outputs": [
        {
          "output_type": "stream",
          "text": [
            "--2019-10-01 09:31:29--  https://storage.googleapis.com/laurencemoroney-blog.appspot.com/training_cleaned.csv\n",
            "Resolving storage.googleapis.com (storage.googleapis.com)... 74.125.23.128, 2404:6800:4008:c04::80\n",
            "Connecting to storage.googleapis.com (storage.googleapis.com)|74.125.23.128|:443... connected.\n",
            "HTTP request sent, awaiting response... 200 OK\n",
            "Length: 238942690 (228M) [application/octet-stream]\n",
            "Saving to: ‘/tmp/training_cleaned.csv’\n",
            "\n",
            "/tmp/training_clean 100%[===================>] 227.87M  77.8MB/s    in 2.9s    \n",
            "\n",
            "2019-10-01 09:31:33 (77.8 MB/s) - ‘/tmp/training_cleaned.csv’ saved [238942690/238942690]\n",
            "\n"
          ],
          "name": "stdout"
        }
      ]
    },
    {
      "cell_type": "code",
      "metadata": {
        "id": "3kxblBUjEUX-",
        "colab_type": "code",
        "outputId": "a163cad5-66db-413e-eb32-c851dcb5a000",
        "colab": {
          "base_uri": "https://localhost:8080/",
          "height": 68
        }
      },
      "source": [
        "print(num_sentences)\n",
        "print(len(corpus))\n",
        "print(corpus[1])\n",
        "\n",
        "# Expected Output:\n",
        "# 1600000\n",
        "# 1600000\n",
        "# [\"is upset that he can't update his Facebook by texting it... and might cry as a result  School today also. Blah!\", 0]"
      ],
      "execution_count": 0,
      "outputs": [
        {
          "output_type": "stream",
          "text": [
            "1600000\n",
            "1600000\n",
            "[\"is upset that he can't update his Facebook by texting it... and might cry as a result  School today also. Blah!\", 0]\n"
          ],
          "name": "stdout"
        }
      ]
    },
    {
      "cell_type": "code",
      "metadata": {
        "id": "ohOGz24lsNAD",
        "colab_type": "code",
        "colab": {}
      },
      "source": [
        "sentences=[]\n",
        "labels=[]\n",
        "random.shuffle(corpus)\n",
        "for x in range(training_size):\n",
        "    sentences.append(corpus[x][0])\n",
        "    labels.append(corpus[x][1])\n",
        "\n",
        "\n",
        "tokenizer = Tokenizer()\n",
        "tokenizer.fit_on_texts(sentences)\n",
        "\n",
        "word_index = tokenizer.word_index\n",
        "vocab_size=len(word_index)\n",
        "\n",
        "sequences = tokenizer.texts_to_sequences(sentences)\n",
        "padded = pad_sequences(sequences, maxlen=max_length, padding=padding_type, truncating=trunc_type)\n",
        "\n",
        "split = int(test_portion * training_size)\n",
        "\n",
        "test_sequences = padded[split:]\n",
        "training_sequences = padded[:split]\n",
        "test_labels = labels[split:]\n",
        "training_labels = labels[:split]"
      ],
      "execution_count": 0,
      "outputs": []
    },
    {
      "cell_type": "code",
      "metadata": {
        "id": "gIrtRem1En3N",
        "colab_type": "code",
        "outputId": "4a2318b9-d395-491e-937c-c6d31d9bf68e",
        "colab": {
          "base_uri": "https://localhost:8080/",
          "height": 51
        }
      },
      "source": [
        "print(vocab_size)\n",
        "print(word_index['i'])\n",
        "# Expected Output\n",
        "# 138858\n",
        "# 1"
      ],
      "execution_count": 0,
      "outputs": [
        {
          "output_type": "stream",
          "text": [
            "138548\n",
            "1\n"
          ],
          "name": "stdout"
        }
      ]
    },
    {
      "cell_type": "code",
      "metadata": {
        "id": "C1zdgJkusRh0",
        "colab_type": "code",
        "outputId": "95cb3854-af64-4d6c-ebd2-3b4503ec92af",
        "colab": {
          "base_uri": "https://localhost:8080/",
          "height": 204
        }
      },
      "source": [
        "# Note this is the 100 dimension version of GloVe from Stanford\n",
        "# I unzipped and hosted it on my site to make this notebook easier\n",
        "!wget --no-check-certificate \\\n",
        "    https://storage.googleapis.com/laurencemoroney-blog.appspot.com/glove.6B.100d.txt \\\n",
        "    -O /tmp/glove.6B.100d.txt\n",
        "embeddings_index = {};\n",
        "with open('/tmp/glove.6B.100d.txt') as f:\n",
        "    for line in f:\n",
        "        values = line.split();\n",
        "        word = values[0];\n",
        "        coefs = np.asarray(values[1:], dtype='float32');\n",
        "        embeddings_index[word] = coefs;\n",
        "\n",
        "embeddings_matrix = np.zeros((vocab_size+1, embedding_dim));\n",
        "for word, i in word_index.items():\n",
        "    embedding_vector = embeddings_index.get(word);\n",
        "    if embedding_vector is not None:\n",
        "        embeddings_matrix[i] = embedding_vector;"
      ],
      "execution_count": 0,
      "outputs": [
        {
          "output_type": "stream",
          "text": [
            "--2019-10-01 09:31:50--  https://storage.googleapis.com/laurencemoroney-blog.appspot.com/glove.6B.100d.txt\n",
            "Resolving storage.googleapis.com (storage.googleapis.com)... 74.125.203.128, 2404:6800:4008:c04::80\n",
            "Connecting to storage.googleapis.com (storage.googleapis.com)|74.125.203.128|:443... connected.\n",
            "HTTP request sent, awaiting response... 200 OK\n",
            "Length: 347116733 (331M) [text/plain]\n",
            "Saving to: ‘/tmp/glove.6B.100d.txt’\n",
            "\n",
            "/tmp/glove.6B.100d. 100%[===================>] 331.04M   109MB/s    in 3.0s    \n",
            "\n",
            "2019-10-01 09:31:53 (109 MB/s) - ‘/tmp/glove.6B.100d.txt’ saved [347116733/347116733]\n",
            "\n"
          ],
          "name": "stdout"
        }
      ]
    },
    {
      "cell_type": "code",
      "metadata": {
        "id": "71NLk_lpFLNt",
        "colab_type": "code",
        "outputId": "ae2acd6f-b78a-4a3a-87d0-91abbee89b5c",
        "colab": {
          "base_uri": "https://localhost:8080/",
          "height": 34
        }
      },
      "source": [
        "print(len(embeddings_matrix))\n",
        "# Expected Output\n",
        "# 138859"
      ],
      "execution_count": 0,
      "outputs": [
        {
          "output_type": "stream",
          "text": [
            "138549\n"
          ],
          "name": "stdout"
        }
      ]
    },
    {
      "cell_type": "code",
      "metadata": {
        "colab_type": "code",
        "id": "iKKvbuEBOGFz",
        "outputId": "22ebf45e-a60c-4d45-d527-dbde0c918919",
        "colab": {
          "base_uri": "https://localhost:8080/",
          "height": 1000
        }
      },
      "source": [
        "model = tf.keras.Sequential([\n",
        "    tf.keras.layers.Embedding(vocab_size+1, embedding_dim, input_length=max_length, weights=[embeddings_matrix], trainable=False),\n",
        "    # YOUR CODE HERE - experiment with combining different types, such as convolutions and LSTMs\n",
        "    tf.keras.layers.Dropout(0.2),\n",
        "    tf.keras.layers.Conv1D(64, 5, activation='relu'),\n",
        "    tf.keras.layers.MaxPooling1D(pool_size=4),\n",
        "    tf.keras.layers.LSTM(64),\n",
        "    tf.keras.layers.Dense(1, activation='sigmoid')\n",
        "])\n",
        "model.compile(loss='binary_crossentropy',optimizer='adam',metrics=['accuracy'])\n",
        "model.summary()\n",
        "\n",
        "num_epochs = 50\n",
        "history = model.fit(training_sequences, training_labels, epochs=num_epochs, validation_data=(test_sequences, test_labels), verbose=2)\n",
        "\n",
        "print(\"Training Complete\")\n"
      ],
      "execution_count": 0,
      "outputs": [
        {
          "output_type": "stream",
          "text": [
            "WARNING:tensorflow:From /usr/local/lib/python3.6/dist-packages/tensorflow/python/keras/initializers.py:119: calling RandomUniform.__init__ (from tensorflow.python.ops.init_ops) with dtype is deprecated and will be removed in a future version.\n",
            "Instructions for updating:\n",
            "Call initializer instance with the dtype argument instead of passing it to the constructor\n",
            "WARNING:tensorflow:From /usr/local/lib/python3.6/dist-packages/tensorflow/python/ops/init_ops.py:1251: calling VarianceScaling.__init__ (from tensorflow.python.ops.init_ops) with dtype is deprecated and will be removed in a future version.\n",
            "Instructions for updating:\n",
            "Call initializer instance with the dtype argument instead of passing it to the constructor\n",
            "WARNING:tensorflow:From /usr/local/lib/python3.6/dist-packages/tensorflow/python/ops/nn_impl.py:180: add_dispatch_support.<locals>.wrapper (from tensorflow.python.ops.array_ops) is deprecated and will be removed in a future version.\n",
            "Instructions for updating:\n",
            "Use tf.where in 2.0, which has the same broadcast rule as np.where\n",
            "Model: \"sequential\"\n",
            "_________________________________________________________________\n",
            "Layer (type)                 Output Shape              Param #   \n",
            "=================================================================\n",
            "embedding (Embedding)        (None, 16, 100)           13854900  \n",
            "_________________________________________________________________\n",
            "dropout (Dropout)            (None, 16, 100)           0         \n",
            "_________________________________________________________________\n",
            "conv1d (Conv1D)              (None, 12, 64)            32064     \n",
            "_________________________________________________________________\n",
            "max_pooling1d (MaxPooling1D) (None, 3, 64)             0         \n",
            "_________________________________________________________________\n",
            "lstm (LSTM)                  (None, 64)                33024     \n",
            "_________________________________________________________________\n",
            "dense (Dense)                (None, 1)                 65        \n",
            "=================================================================\n",
            "Total params: 13,920,053\n",
            "Trainable params: 65,153\n",
            "Non-trainable params: 13,854,900\n",
            "_________________________________________________________________\n",
            "Train on 16000 samples, validate on 144000 samples\n",
            "Epoch 1/50\n",
            "16000/16000 - 34s - loss: 0.6240 - acc: 0.6525 - val_loss: 0.5808 - val_acc: 0.6920\n",
            "Epoch 2/50\n",
            "16000/16000 - 30s - loss: 0.5729 - acc: 0.6988 - val_loss: 0.5628 - val_acc: 0.7053\n",
            "Epoch 3/50\n",
            "16000/16000 - 30s - loss: 0.5451 - acc: 0.7205 - val_loss: 0.5663 - val_acc: 0.7046\n",
            "Epoch 4/50\n",
            "16000/16000 - 30s - loss: 0.5150 - acc: 0.7441 - val_loss: 0.5510 - val_acc: 0.7157\n",
            "Epoch 5/50\n",
            "16000/16000 - 30s - loss: 0.4857 - acc: 0.7631 - val_loss: 0.5653 - val_acc: 0.7102\n",
            "Epoch 6/50\n",
            "16000/16000 - 30s - loss: 0.4626 - acc: 0.7756 - val_loss: 0.5575 - val_acc: 0.7141\n",
            "Epoch 7/50\n",
            "16000/16000 - 30s - loss: 0.4399 - acc: 0.7924 - val_loss: 0.5757 - val_acc: 0.7087\n",
            "Epoch 8/50\n",
            "16000/16000 - 30s - loss: 0.4206 - acc: 0.8044 - val_loss: 0.5782 - val_acc: 0.7073\n",
            "Epoch 9/50\n",
            "16000/16000 - 30s - loss: 0.3994 - acc: 0.8162 - val_loss: 0.5931 - val_acc: 0.7070\n",
            "Epoch 10/50\n",
            "16000/16000 - 30s - loss: 0.3847 - acc: 0.8242 - val_loss: 0.6128 - val_acc: 0.7062\n",
            "Epoch 11/50\n",
            "16000/16000 - 30s - loss: 0.3602 - acc: 0.8371 - val_loss: 0.6171 - val_acc: 0.6990\n",
            "Epoch 12/50\n",
            "16000/16000 - 30s - loss: 0.3558 - acc: 0.8383 - val_loss: 0.6297 - val_acc: 0.7000\n",
            "Epoch 13/50\n",
            "16000/16000 - 30s - loss: 0.3416 - acc: 0.8463 - val_loss: 0.6426 - val_acc: 0.6986\n",
            "Epoch 14/50\n",
            "16000/16000 - 30s - loss: 0.3234 - acc: 0.8543 - val_loss: 0.6783 - val_acc: 0.6965\n",
            "Epoch 15/50\n",
            "16000/16000 - 30s - loss: 0.3196 - acc: 0.8583 - val_loss: 0.6887 - val_acc: 0.6924\n",
            "Epoch 16/50\n",
            "16000/16000 - 30s - loss: 0.3099 - acc: 0.8652 - val_loss: 0.6780 - val_acc: 0.6928\n",
            "Epoch 17/50\n",
            "16000/16000 - 30s - loss: 0.2984 - acc: 0.8711 - val_loss: 0.7245 - val_acc: 0.6967\n",
            "Epoch 18/50\n",
            "16000/16000 - 30s - loss: 0.2881 - acc: 0.8731 - val_loss: 0.7270 - val_acc: 0.6929\n",
            "Epoch 19/50\n",
            "16000/16000 - 30s - loss: 0.2789 - acc: 0.8813 - val_loss: 0.7511 - val_acc: 0.6914\n",
            "Epoch 20/50\n",
            "16000/16000 - 30s - loss: 0.2689 - acc: 0.8846 - val_loss: 0.7894 - val_acc: 0.6940\n",
            "Epoch 21/50\n",
            "16000/16000 - 30s - loss: 0.2720 - acc: 0.8836 - val_loss: 0.7748 - val_acc: 0.6941\n",
            "Epoch 22/50\n",
            "16000/16000 - 30s - loss: 0.2553 - acc: 0.8915 - val_loss: 0.7941 - val_acc: 0.6900\n",
            "Epoch 23/50\n",
            "16000/16000 - 30s - loss: 0.2579 - acc: 0.8904 - val_loss: 0.7940 - val_acc: 0.6832\n",
            "Epoch 24/50\n",
            "16000/16000 - 30s - loss: 0.2462 - acc: 0.8932 - val_loss: 0.8039 - val_acc: 0.6907\n",
            "Epoch 25/50\n",
            "16000/16000 - 30s - loss: 0.2393 - acc: 0.8992 - val_loss: 0.8062 - val_acc: 0.6807\n",
            "Epoch 26/50\n",
            "16000/16000 - 30s - loss: 0.2377 - acc: 0.9004 - val_loss: 0.8255 - val_acc: 0.6873\n",
            "Epoch 27/50\n",
            "16000/16000 - 30s - loss: 0.2300 - acc: 0.9026 - val_loss: 0.8594 - val_acc: 0.6861\n",
            "Epoch 28/50\n",
            "16000/16000 - 30s - loss: 0.2264 - acc: 0.9051 - val_loss: 0.8845 - val_acc: 0.6849\n",
            "Epoch 29/50\n",
            "16000/16000 - 30s - loss: 0.2179 - acc: 0.9094 - val_loss: 0.8539 - val_acc: 0.6881\n",
            "Epoch 30/50\n",
            "16000/16000 - 29s - loss: 0.2209 - acc: 0.9106 - val_loss: 0.8788 - val_acc: 0.6818\n",
            "Epoch 31/50\n",
            "16000/16000 - 30s - loss: 0.2118 - acc: 0.9135 - val_loss: 0.9091 - val_acc: 0.6856\n",
            "Epoch 32/50\n",
            "16000/16000 - 30s - loss: 0.2085 - acc: 0.9141 - val_loss: 0.8741 - val_acc: 0.6792\n",
            "Epoch 33/50\n",
            "16000/16000 - 30s - loss: 0.2066 - acc: 0.9168 - val_loss: 0.8505 - val_acc: 0.6840\n",
            "Epoch 34/50\n",
            "16000/16000 - 30s - loss: 0.1989 - acc: 0.9175 - val_loss: 0.8704 - val_acc: 0.6796\n",
            "Epoch 35/50\n",
            "16000/16000 - 30s - loss: 0.1957 - acc: 0.9189 - val_loss: 0.9112 - val_acc: 0.6851\n",
            "Epoch 36/50\n",
            "16000/16000 - 30s - loss: 0.1943 - acc: 0.9202 - val_loss: 0.9175 - val_acc: 0.6860\n",
            "Epoch 37/50\n",
            "16000/16000 - 30s - loss: 0.1927 - acc: 0.9226 - val_loss: 0.9232 - val_acc: 0.6806\n",
            "Epoch 38/50\n",
            "16000/16000 - 30s - loss: 0.1969 - acc: 0.9189 - val_loss: 0.9047 - val_acc: 0.6830\n",
            "Epoch 39/50\n",
            "16000/16000 - 30s - loss: 0.1897 - acc: 0.9218 - val_loss: 0.9133 - val_acc: 0.6839\n",
            "Epoch 40/50\n",
            "16000/16000 - 30s - loss: 0.1858 - acc: 0.9254 - val_loss: 0.9404 - val_acc: 0.6839\n",
            "Epoch 41/50\n",
            "16000/16000 - 30s - loss: 0.1811 - acc: 0.9266 - val_loss: 0.9684 - val_acc: 0.6823\n",
            "Epoch 42/50\n",
            "16000/16000 - 30s - loss: 0.1780 - acc: 0.9274 - val_loss: 0.9662 - val_acc: 0.6810\n",
            "Epoch 43/50\n",
            "16000/16000 - 30s - loss: 0.1817 - acc: 0.9273 - val_loss: 0.9607 - val_acc: 0.6845\n",
            "Epoch 44/50\n",
            "16000/16000 - 30s - loss: 0.1702 - acc: 0.9293 - val_loss: 0.9760 - val_acc: 0.6819\n",
            "Epoch 45/50\n",
            "16000/16000 - 30s - loss: 0.1695 - acc: 0.9311 - val_loss: 0.9946 - val_acc: 0.6844\n",
            "Epoch 46/50\n",
            "16000/16000 - 30s - loss: 0.1691 - acc: 0.9311 - val_loss: 0.9806 - val_acc: 0.6840\n",
            "Epoch 47/50\n",
            "16000/16000 - 30s - loss: 0.1673 - acc: 0.9312 - val_loss: 1.0279 - val_acc: 0.6809\n",
            "Epoch 48/50\n",
            "16000/16000 - 30s - loss: 0.1637 - acc: 0.9348 - val_loss: 1.0059 - val_acc: 0.6851\n",
            "Epoch 49/50\n",
            "16000/16000 - 30s - loss: 0.1640 - acc: 0.9334 - val_loss: 0.9992 - val_acc: 0.6794\n",
            "Epoch 50/50\n",
            "16000/16000 - 30s - loss: 0.1666 - acc: 0.9352 - val_loss: 0.9831 - val_acc: 0.6845\n",
            "Training Complete\n"
          ],
          "name": "stdout"
        }
      ]
    },
    {
      "cell_type": "code",
      "metadata": {
        "id": "qxju4ItJKO8F",
        "colab_type": "code",
        "outputId": "91576d08-816f-4114-f3f5-afbf27769448",
        "colab": {
          "base_uri": "https://localhost:8080/",
          "height": 607
        }
      },
      "source": [
        "import matplotlib.image  as mpimg\n",
        "import matplotlib.pyplot as plt\n",
        "\n",
        "#-----------------------------------------------------------\n",
        "# Retrieve a list of list results on training and test data\n",
        "# sets for each training epoch\n",
        "#-----------------------------------------------------------\n",
        "acc=history.history['acc']\n",
        "val_acc=history.history['val_acc']\n",
        "loss=history.history['loss']\n",
        "val_loss=history.history['val_loss']\n",
        "\n",
        "epochs=range(len(acc)) # Get number of epochs\n",
        "\n",
        "#------------------------------------------------\n",
        "# Plot training and validation accuracy per epoch\n",
        "#------------------------------------------------\n",
        "plt.plot(epochs, acc, 'r')\n",
        "plt.plot(epochs, val_acc, 'b')\n",
        "plt.title('Training and validation accuracy')\n",
        "plt.xlabel(\"Epochs\")\n",
        "plt.ylabel(\"Accuracy\")\n",
        "plt.legend([\"Accuracy\", \"Validation Accuracy\"])\n",
        "\n",
        "plt.figure()\n",
        "\n",
        "#------------------------------------------------\n",
        "# Plot training and validation loss per epoch\n",
        "#------------------------------------------------\n",
        "plt.plot(epochs, loss, 'r')\n",
        "plt.plot(epochs, val_loss, 'b')\n",
        "plt.title('Training and validation loss')\n",
        "plt.xlabel(\"Epochs\")\n",
        "plt.ylabel(\"Loss\")\n",
        "plt.legend([\"Loss\", \"Validation Loss\"])\n",
        "\n",
        "plt.figure()\n",
        "\n",
        "\n",
        "# Expected Output\n",
        "# A chart where the validation loss does not increase sharply!"
      ],
      "execution_count": 0,
      "outputs": [
        {
          "output_type": "execute_result",
          "data": {
            "text/plain": [
              "<Figure size 432x288 with 0 Axes>"
            ]
          },
          "metadata": {
            "tags": []
          },
          "execution_count": 9
        },
        {
          "output_type": "display_data",
          "data": {
            "image/png": "[encoded data removed]",
            "text/plain": [
              "<Figure size 432x288 with 1 Axes>"
            ]
          },
          "metadata": {
            "tags": []
          }
        },
        {
          "output_type": "display_data",
          "data": {
            "image/png": "[encoded data removed]",
            "text/plain": [
              "<Figure size 432x288 with 1 Axes>"
            ]
          },
          "metadata": {
            "tags": []
          }
        },
        {
          "output_type": "display_data",
          "data": {
            "text/plain": [
              "<Figure size 432x288 with 0 Axes>"
            ]
          },
          "metadata": {
            "tags": []
          }
        }
      ]
    }
  ]
}