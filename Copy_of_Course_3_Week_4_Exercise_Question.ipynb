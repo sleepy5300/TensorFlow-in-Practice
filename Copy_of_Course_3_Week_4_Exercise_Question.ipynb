{
  "nbformat": 4,
  "nbformat_minor": 0,
  "metadata": {
    "colab": {
      "name": "Copy of NLP-Week4-Exercise-Shakespeare-Question.ipynb",
      "provenance": [],
      "include_colab_link": true
    },
    "kernelspec": {
      "name": "python3",
      "display_name": "Python 3"
    },
    "accelerator": "GPU"
  },
  "cells": [
    {
      "cell_type": "markdown",
      "metadata": {
        "id": "view-in-github",
        "colab_type": "text"
      },
      "source": [
        "<a href=\"https://colab.research.google.com/github/sleepy5300/TensorFlow-in-Practice-Specialization/blob/master/Copy_of_Course_3_Week_4_Exercise_Question.ipynb\" target=\"_parent\"><img src=\"https://colab.research.google.com/assets/colab-badge.svg\" alt=\"Open In Colab\"/></a>"
      ]
    },
    {
      "cell_type": "code",
      "metadata": {
        "id": "BOwsuGQQY9OL",
        "colab_type": "code",
        "colab": {}
      },
      "source": [
        "gitfrom tensorflow.keras.preprocessing.sequence import pad_sequences\n",
        "from tensorflow.keras.layers import Embedding, LSTM, Dense, Dropout, Bidirectional\n",
        "from tensorflow.keras.preprocessing.text import Tokenizer\n",
        "from tensorflow.keras.models import Sequential\n",
        "from tensorflow.keras.optimizers import Adam\n",
        "### YOUR CODE HERE\n",
        "from tensorflow.keras.regularizers import l2\n",
        "###\n",
        "import tensorflow.keras.utils as ku \n",
        "import numpy as np "
      ],
      "execution_count": 0,
      "outputs": []
    },
    {
      "cell_type": "code",
      "metadata": {
        "colab_type": "code",
        "id": "PRnDnCW-Z7qv",
        "outputId": "75d191e3-ee0c-48a4-fc29-c2332ab4fd58",
        "colab": {
          "base_uri": "https://localhost:8080/",
          "height": 221
        }
      },
      "source": [
        "tokenizer = Tokenizer()\n",
        "!wget --no-check-certificate \\\n",
        "    https://storage.googleapis.com/laurencemoroney-blog.appspot.com/sonnets.txt \\\n",
        "    -O /tmp/sonnets.txt\n",
        "data = open('/tmp/sonnets.txt').read()\n",
        "\n",
        "corpus = data.lower().split(\"\\n\")\n",
        "\n",
        "\n",
        "tokenizer.fit_on_texts(corpus)\n",
        "total_words = len(tokenizer.word_index) + 1\n",
        "\n",
        "# create input sequences using list of tokens\n",
        "input_sequences = []\n",
        "for line in corpus:\n",
        "\ttoken_list = tokenizer.texts_to_sequences([line])[0]\n",
        "\tfor i in range(1, len(token_list)):\n",
        "\t\tn_gram_sequence = token_list[:i+1]\n",
        "\t\tinput_sequences.append(n_gram_sequence)\n",
        "\n",
        "\n",
        "# pad sequences \n",
        "max_sequence_len = max([len(x) for x in input_sequences])\n",
        "input_sequences = np.array(pad_sequences(input_sequences, maxlen=max_sequence_len, padding='pre'))\n",
        "\n",
        "# create predictors and label\n",
        "predictors, label = input_sequences[:,:-1],input_sequences[:,-1]\n",
        "\n",
        "label = ku.to_categorical(label, num_classes=total_words)\n",
        "\n",
        "print(max_sequence_len)"
      ],
      "execution_count": 0,
      "outputs": [
        {
          "output_type": "stream",
          "text": [
            "--2019-10-03 02:09:16--  https://storage.googleapis.com/laurencemoroney-blog.appspot.com/sonnets.txt\n",
            "Resolving storage.googleapis.com (storage.googleapis.com)... 74.125.133.128, 2a00:1450:400c:c09::80\n",
            "Connecting to storage.googleapis.com (storage.googleapis.com)|74.125.133.128|:443... connected.\n",
            "HTTP request sent, awaiting response... 200 OK\n",
            "Length: 93578 (91K) [text/plain]\n",
            "Saving to: ‘/tmp/sonnets.txt’\n",
            "\n",
            "\r/tmp/sonnets.txt      0%[                    ]       0  --.-KB/s               \r/tmp/sonnets.txt    100%[===================>]  91.38K  --.-KB/s    in 0.001s  \n",
            "\n",
            "2019-10-03 02:09:17 (146 MB/s) - ‘/tmp/sonnets.txt’ saved [93578/93578]\n",
            "\n",
            "11\n"
          ],
          "name": "stdout"
        }
      ]
    },
    {
      "cell_type": "code",
      "metadata": {
        "id": "w9vH8Y59ajYL",
        "colab_type": "code",
        "outputId": "a5248e85-bb9a-4b99-99b9-0ef4f99b5ce8",
        "colab": {
          "base_uri": "https://localhost:8080/",
          "height": 374
        }
      },
      "source": [
        "model = Sequential()\n",
        "model.add(Embedding(total_words, 100, input_length=max_sequence_len-1))\n",
        "model.add(Bidirectional(LSTM(int(total_words/16), return_sequences = True)))\n",
        "model.add(Dropout(0.2))\n",
        "model.add(Bidirectional(LSTM(int(total_words/8))))\n",
        "model.add(Dense(total_words / 2, activation='relu', kernel_regularizer=l2(l=0.05)))\n",
        "model.add(Dense(total_words, activation='softmax'))\n",
        "# Pick an optimizer\n",
        "model.compile(loss='categorical_crossentropy', optimizer='adam', metrics=['accuracy'])\n",
        "print(model.summary())\n"
      ],
      "execution_count": 0,
      "outputs": [
        {
          "output_type": "stream",
          "text": [
            "Model: \"sequential_6\"\n",
            "_________________________________________________________________\n",
            "Layer (type)                 Output Shape              Param #   \n",
            "=================================================================\n",
            "embedding_6 (Embedding)      (None, 10, 100)           321100    \n",
            "_________________________________________________________________\n",
            "bidirectional_11 (Bidirectio (None, 10, 400)           481600    \n",
            "_________________________________________________________________\n",
            "dropout_5 (Dropout)          (None, 10, 400)           0         \n",
            "_________________________________________________________________\n",
            "bidirectional_12 (Bidirectio (None, 802)               2572816   \n",
            "_________________________________________________________________\n",
            "dense_8 (Dense)              (None, 1605)              1288815   \n",
            "_________________________________________________________________\n",
            "dense_9 (Dense)              (None, 3211)              5156866   \n",
            "=================================================================\n",
            "Total params: 9,821,197\n",
            "Trainable params: 9,821,197\n",
            "Non-trainable params: 0\n",
            "_________________________________________________________________\n",
            "None\n"
          ],
          "name": "stdout"
        }
      ]
    },
    {
      "cell_type": "code",
      "metadata": {
        "id": "AIg2f1HBxqof",
        "colab_type": "code",
        "outputId": "82cbd00a-7e8d-488e-9345-605c8b55e6e3",
        "colab": {
          "base_uri": "https://localhost:8080/",
          "height": 1000
        }
      },
      "source": [
        " history = model.fit(predictors, label, epochs=100, verbose=1)"
      ],
      "execution_count": 0,
      "outputs": [
        {
          "output_type": "stream",
          "text": [
            "WARNING:tensorflow:From /usr/local/lib/python3.6/dist-packages/tensorflow/python/ops/math_grad.py:1250: add_dispatch_support.<locals>.wrapper (from tensorflow.python.ops.array_ops) is deprecated and will be removed in a future version.\n",
            "Instructions for updating:\n",
            "Use tf.where in 2.0, which has the same broadcast rule as np.where\n",
            "Epoch 1/100\n",
            "15462/15462 [==============================] - 56s 4ms/sample - loss: 8.4046 - acc: 0.0217\n",
            "Epoch 2/100\n",
            "15462/15462 [==============================] - 53s 3ms/sample - loss: 6.5407 - acc: 0.0221\n",
            "Epoch 3/100\n",
            "15462/15462 [==============================] - 53s 3ms/sample - loss: 6.4517 - acc: 0.0226\n",
            "Epoch 4/100\n",
            "15462/15462 [==============================] - 53s 3ms/sample - loss: 6.3873 - acc: 0.0288\n",
            "Epoch 5/100\n",
            "15462/15462 [==============================] - 53s 3ms/sample - loss: 6.2989 - acc: 0.0330\n",
            "Epoch 6/100\n",
            "15462/15462 [==============================] - 53s 3ms/sample - loss: 6.2011 - acc: 0.0352\n",
            "Epoch 7/100\n",
            "15462/15462 [==============================] - 53s 3ms/sample - loss: 6.1349 - acc: 0.0383\n",
            "Epoch 8/100\n",
            "15462/15462 [==============================] - 53s 3ms/sample - loss: 6.0678 - acc: 0.0433\n",
            "Epoch 9/100\n",
            "15462/15462 [==============================] - 53s 3ms/sample - loss: 6.0004 - acc: 0.0457\n",
            "Epoch 10/100\n",
            "15462/15462 [==============================] - 53s 3ms/sample - loss: 5.9304 - acc: 0.0484\n",
            "Epoch 11/100\n",
            "15462/15462 [==============================] - 53s 3ms/sample - loss: 5.8628 - acc: 0.0525\n",
            "Epoch 12/100\n",
            "15462/15462 [==============================] - 53s 3ms/sample - loss: 5.8035 - acc: 0.0583\n",
            "Epoch 13/100\n",
            "15462/15462 [==============================] - 53s 3ms/sample - loss: 5.7404 - acc: 0.0597\n",
            "Epoch 14/100\n",
            "15462/15462 [==============================] - 53s 3ms/sample - loss: 5.6808 - acc: 0.0614\n",
            "Epoch 15/100\n",
            "15462/15462 [==============================] - 53s 3ms/sample - loss: 5.6205 - acc: 0.0671\n",
            "Epoch 16/100\n",
            "15462/15462 [==============================] - 53s 3ms/sample - loss: 5.5655 - acc: 0.0685\n",
            "Epoch 17/100\n",
            "15462/15462 [==============================] - 53s 3ms/sample - loss: 5.5092 - acc: 0.0732\n",
            "Epoch 18/100\n",
            "15462/15462 [==============================] - 53s 3ms/sample - loss: 5.4475 - acc: 0.0733\n",
            "Epoch 19/100\n",
            "15462/15462 [==============================] - 53s 3ms/sample - loss: 5.3883 - acc: 0.0785\n",
            "Epoch 20/100\n",
            "15462/15462 [==============================] - 53s 3ms/sample - loss: 5.3353 - acc: 0.0816\n",
            "Epoch 21/100\n",
            "15462/15462 [==============================] - 53s 3ms/sample - loss: 5.2720 - acc: 0.0867\n",
            "Epoch 22/100\n",
            "15462/15462 [==============================] - 53s 3ms/sample - loss: 5.2121 - acc: 0.0930\n",
            "Epoch 23/100\n",
            "15462/15462 [==============================] - 53s 3ms/sample - loss: 5.1487 - acc: 0.0998\n",
            "Epoch 24/100\n",
            "15462/15462 [==============================] - 53s 3ms/sample - loss: 5.0915 - acc: 0.1032\n",
            "Epoch 25/100\n",
            "15462/15462 [==============================] - 53s 3ms/sample - loss: 5.0275 - acc: 0.1110\n",
            "Epoch 26/100\n",
            "15462/15462 [==============================] - 53s 3ms/sample - loss: 4.9677 - acc: 0.1119\n",
            "Epoch 27/100\n",
            "15462/15462 [==============================] - 53s 3ms/sample - loss: 4.9000 - acc: 0.1190\n",
            "Epoch 28/100\n",
            "15462/15462 [==============================] - 53s 3ms/sample - loss: 4.8355 - acc: 0.1286\n",
            "Epoch 29/100\n",
            "15462/15462 [==============================] - 53s 3ms/sample - loss: 4.7767 - acc: 0.1334\n",
            "Epoch 30/100\n",
            "15462/15462 [==============================] - 54s 3ms/sample - loss: 4.7104 - acc: 0.1423\n",
            "Epoch 31/100\n",
            "15462/15462 [==============================] - 54s 3ms/sample - loss: 4.6414 - acc: 0.1490\n",
            "Epoch 32/100\n",
            "15462/15462 [==============================] - 53s 3ms/sample - loss: 4.5705 - acc: 0.1544\n",
            "Epoch 33/100\n",
            "15462/15462 [==============================] - 53s 3ms/sample - loss: 4.4997 - acc: 0.1655\n",
            "Epoch 34/100\n",
            "15462/15462 [==============================] - 54s 3ms/sample - loss: 4.4403 - acc: 0.1734\n",
            "Epoch 35/100\n",
            "15462/15462 [==============================] - 54s 3ms/sample - loss: 4.3729 - acc: 0.1783\n",
            "Epoch 36/100\n",
            "15462/15462 [==============================] - 53s 3ms/sample - loss: 4.3001 - acc: 0.1883\n",
            "Epoch 37/100\n",
            "15462/15462 [==============================] - 54s 3ms/sample - loss: 4.2305 - acc: 0.1983\n",
            "Epoch 38/100\n",
            "15462/15462 [==============================] - 53s 3ms/sample - loss: 4.1648 - acc: 0.2069\n",
            "Epoch 39/100\n",
            "15462/15462 [==============================] - 54s 3ms/sample - loss: 4.0895 - acc: 0.2185\n",
            "Epoch 40/100\n",
            "15462/15462 [==============================] - 53s 3ms/sample - loss: 4.0191 - acc: 0.2281\n",
            "Epoch 41/100\n",
            "15462/15462 [==============================] - 53s 3ms/sample - loss: 3.9571 - acc: 0.2397\n",
            "Epoch 42/100\n",
            "15462/15462 [==============================] - 53s 3ms/sample - loss: 3.8972 - acc: 0.2500\n",
            "Epoch 43/100\n",
            "15462/15462 [==============================] - 53s 3ms/sample - loss: 3.8222 - acc: 0.2627\n",
            "Epoch 44/100\n",
            "15462/15462 [==============================] - 54s 3ms/sample - loss: 3.7541 - acc: 0.2754\n",
            "Epoch 45/100\n",
            "15462/15462 [==============================] - 54s 3ms/sample - loss: 3.6870 - acc: 0.2883\n",
            "Epoch 46/100\n",
            "15462/15462 [==============================] - 53s 3ms/sample - loss: 3.6282 - acc: 0.2954\n",
            "Epoch 47/100\n",
            "15462/15462 [==============================] - 53s 3ms/sample - loss: 3.5732 - acc: 0.3105\n",
            "Epoch 48/100\n",
            "15462/15462 [==============================] - 54s 3ms/sample - loss: 3.5032 - acc: 0.3257\n",
            "Epoch 49/100\n",
            "15462/15462 [==============================] - 53s 3ms/sample - loss: 3.4317 - acc: 0.3416\n",
            "Epoch 50/100\n",
            "15462/15462 [==============================] - 53s 3ms/sample - loss: 3.3852 - acc: 0.3542\n",
            "Epoch 51/100\n",
            "15462/15462 [==============================] - 53s 3ms/sample - loss: 3.3243 - acc: 0.3671\n",
            "Epoch 52/100\n",
            "15462/15462 [==============================] - 53s 3ms/sample - loss: 3.2584 - acc: 0.3783\n",
            "Epoch 53/100\n",
            "15462/15462 [==============================] - 53s 3ms/sample - loss: 3.2009 - acc: 0.3915\n",
            "Epoch 54/100\n",
            "15462/15462 [==============================] - 53s 3ms/sample - loss: 3.1345 - acc: 0.4093\n",
            "Epoch 55/100\n",
            "15462/15462 [==============================] - 53s 3ms/sample - loss: 3.0850 - acc: 0.4197\n",
            "Epoch 56/100\n",
            "15462/15462 [==============================] - 53s 3ms/sample - loss: 3.0461 - acc: 0.4292\n",
            "Epoch 57/100\n",
            "15462/15462 [==============================] - 53s 3ms/sample - loss: 2.9750 - acc: 0.4459\n",
            "Epoch 58/100\n",
            "15462/15462 [==============================] - 53s 3ms/sample - loss: 2.9429 - acc: 0.4582\n",
            "Epoch 59/100\n",
            "15462/15462 [==============================] - 53s 3ms/sample - loss: 2.8733 - acc: 0.4698\n",
            "Epoch 60/100\n",
            "15462/15462 [==============================] - 52s 3ms/sample - loss: 2.8091 - acc: 0.4884\n",
            "Epoch 61/100\n",
            "15462/15462 [==============================] - 52s 3ms/sample - loss: 2.7758 - acc: 0.4924\n",
            "Epoch 62/100\n",
            "15462/15462 [==============================] - 53s 3ms/sample - loss: 2.7199 - acc: 0.5077\n",
            "Epoch 63/100\n",
            "15462/15462 [==============================] - 53s 3ms/sample - loss: 2.6682 - acc: 0.5198\n",
            "Epoch 64/100\n",
            "15462/15462 [==============================] - 52s 3ms/sample - loss: 2.6234 - acc: 0.5328\n",
            "Epoch 65/100\n",
            "15462/15462 [==============================] - 53s 3ms/sample - loss: 2.5884 - acc: 0.5420\n",
            "Epoch 66/100\n",
            "15462/15462 [==============================] - 53s 3ms/sample - loss: 2.5402 - acc: 0.5494\n",
            "Epoch 67/100\n",
            "15462/15462 [==============================] - 53s 3ms/sample - loss: 2.4883 - acc: 0.5642\n",
            "Epoch 68/100\n",
            "15462/15462 [==============================] - 53s 3ms/sample - loss: 2.4392 - acc: 0.5755\n",
            "Epoch 69/100\n",
            "15462/15462 [==============================] - 53s 3ms/sample - loss: 2.3966 - acc: 0.5869\n",
            "Epoch 70/100\n",
            "15462/15462 [==============================] - 53s 3ms/sample - loss: 2.3642 - acc: 0.5944\n",
            "Epoch 71/100\n",
            "15462/15462 [==============================] - 53s 3ms/sample - loss: 2.3369 - acc: 0.6002\n",
            "Epoch 72/100\n",
            "15462/15462 [==============================] - 53s 3ms/sample - loss: 2.2826 - acc: 0.6129\n",
            "Epoch 73/100\n",
            "15462/15462 [==============================] - 53s 3ms/sample - loss: 2.2492 - acc: 0.6174\n",
            "Epoch 74/100\n",
            "15462/15462 [==============================] - 52s 3ms/sample - loss: 2.2113 - acc: 0.6293\n",
            "Epoch 75/100\n",
            "15462/15462 [==============================] - 53s 3ms/sample - loss: 2.1752 - acc: 0.6359\n",
            "Epoch 76/100\n",
            "15462/15462 [==============================] - 53s 3ms/sample - loss: 2.1624 - acc: 0.6409\n",
            "Epoch 77/100\n",
            "15462/15462 [==============================] - 53s 3ms/sample - loss: 2.1119 - acc: 0.6478\n",
            "Epoch 78/100\n",
            "15462/15462 [==============================] - 53s 3ms/sample - loss: 2.0815 - acc: 0.6588\n",
            "Epoch 79/100\n",
            "15462/15462 [==============================] - 53s 3ms/sample - loss: 2.0639 - acc: 0.6586\n",
            "Epoch 80/100\n",
            "15462/15462 [==============================] - 53s 3ms/sample - loss: 2.0260 - acc: 0.6700\n",
            "Epoch 81/100\n",
            "15462/15462 [==============================] - 54s 3ms/sample - loss: 2.0008 - acc: 0.6791\n",
            "Epoch 82/100\n",
            "15462/15462 [==============================] - 54s 3ms/sample - loss: 1.9706 - acc: 0.6789\n",
            "Epoch 83/100\n",
            "15462/15462 [==============================] - 54s 3ms/sample - loss: 1.9481 - acc: 0.6889\n",
            "Epoch 84/100\n",
            "15462/15462 [==============================] - 52s 3ms/sample - loss: 1.9264 - acc: 0.6881\n",
            "Epoch 85/100\n",
            "15462/15462 [==============================] - 54s 3ms/sample - loss: 1.8969 - acc: 0.6965\n",
            "Epoch 86/100\n",
            "15462/15462 [==============================] - 53s 3ms/sample - loss: 1.8621 - acc: 0.7059\n",
            "Epoch 87/100\n",
            "15462/15462 [==============================] - 53s 3ms/sample - loss: 1.8265 - acc: 0.7114\n",
            "Epoch 88/100\n",
            "15462/15462 [==============================] - 53s 3ms/sample - loss: 1.8246 - acc: 0.7099\n",
            "Epoch 89/100\n",
            "15462/15462 [==============================] - 53s 3ms/sample - loss: 1.8143 - acc: 0.7080\n",
            "Epoch 90/100\n",
            "15462/15462 [==============================] - 53s 3ms/sample - loss: 1.7930 - acc: 0.7189\n",
            "Epoch 91/100\n",
            "15462/15462 [==============================] - 53s 3ms/sample - loss: 1.7643 - acc: 0.7246\n",
            "Epoch 92/100\n",
            "15462/15462 [==============================] - 54s 3ms/sample - loss: 1.7481 - acc: 0.7253\n",
            "Epoch 93/100\n",
            "15462/15462 [==============================] - 53s 3ms/sample - loss: 1.7085 - acc: 0.7325\n",
            "Epoch 94/100\n",
            "15462/15462 [==============================] - 53s 3ms/sample - loss: 1.6849 - acc: 0.7361\n",
            "Epoch 95/100\n",
            "15462/15462 [==============================] - 53s 3ms/sample - loss: 1.6699 - acc: 0.7388\n",
            "Epoch 96/100\n",
            "15462/15462 [==============================] - 53s 3ms/sample - loss: 1.6517 - acc: 0.7403\n",
            "Epoch 97/100\n",
            "15462/15462 [==============================] - 52s 3ms/sample - loss: 1.6350 - acc: 0.7473\n",
            "Epoch 98/100\n",
            "15462/15462 [==============================] - 53s 3ms/sample - loss: 1.6438 - acc: 0.7431\n",
            "Epoch 99/100\n",
            "15462/15462 [==============================] - 52s 3ms/sample - loss: 1.6123 - acc: 0.7492\n",
            "Epoch 100/100\n",
            "15462/15462 [==============================] - 53s 3ms/sample - loss: 1.6192 - acc: 0.7495\n"
          ],
          "name": "stdout"
        }
      ]
    },
    {
      "cell_type": "code",
      "metadata": {
        "id": "1fXTEO3GJ282",
        "colab_type": "code",
        "outputId": "7c17e191-c0a9-4693-f7a6-8228b285909d",
        "colab": {
          "base_uri": "https://localhost:8080/",
          "height": 545
        }
      },
      "source": [
        "import matplotlib.pyplot as plt\n",
        "acc = history.history['acc']\n",
        "loss = history.history['loss']\n",
        "\n",
        "epochs = range(len(acc))\n",
        "\n",
        "plt.plot(epochs, acc, 'b', label='Training accuracy')\n",
        "plt.title('Training accuracy')\n",
        "\n",
        "plt.figure()\n",
        "\n",
        "plt.plot(epochs, loss, 'b', label='Training Loss')\n",
        "plt.title('Training loss')\n",
        "plt.legend()\n",
        "\n",
        "plt.show()"
      ],
      "execution_count": 0,
      "outputs": [
        {
          "output_type": "display_data",
          "data": {
            "image/png": "[encoded data removed]",
            "text/plain": [
              "<Figure size 432x288 with 1 Axes>"
            ]
          },
          "metadata": {
            "tags": []
          }
        },
        {
          "output_type": "display_data",
          "data": {
            "image/png": "[encoded data removed]",
            "text/plain": [
              "<Figure size 432x288 with 1 Axes>"
            ]
          },
          "metadata": {
            "tags": []
          }
        }
      ]
    },
    {
      "cell_type": "code",
      "metadata": {
        "id": "6Vc6PHgxa6Hm",
        "colab_type": "code",
        "outputId": "e464f93d-0330-4464-b2c5-aec384300fc8",
        "colab": {
          "base_uri": "https://localhost:8080/",
          "height": 54
        }
      },
      "source": [
        "seed_text = \"Help me Obi Wan Kenobi, you're my only hope\"\n",
        "next_words = 100\n",
        "  \n",
        "for _ in range(next_words):\n",
        "\ttoken_list = tokenizer.texts_to_sequences([seed_text])[0]\n",
        "\ttoken_list = pad_sequences([token_list], maxlen=max_sequence_len-1, padding='pre')\n",
        "\tpredicted = model.predict_classes(token_list, verbose=0)\n",
        "\toutput_word = \"\"\n",
        "\tfor word, index in tokenizer.word_index.items():\n",
        "\t\tif index == predicted:\n",
        "\t\t\toutput_word = word\n",
        "\t\t\tbreak\n",
        "\tseed_text += \" \" + output_word\n",
        "print(seed_text)"
      ],
      "execution_count": 0,
      "outputs": [
        {
          "output_type": "stream",
          "text": [
            "Help me Obi Wan Kenobi, you're my only hope must come forsworn to use one of state or dross light erred rare 'will ' hour mine eye ' than advised beds' asleep and fuel tuned and near sorrow ' are prove care i fire chide love's might held near age ' grossly might end prove cross gone ' than give men's age before thee than change mine eye ' prove care my name forbear truth open part prove care prove crime delight might rare burn which delight than lie and heaven's rhyme near slain prove cross prove life and date jewel might lie are prove thee thine eye and\n"
          ],
          "name": "stdout"
        }
      ]
    }
  ]
}