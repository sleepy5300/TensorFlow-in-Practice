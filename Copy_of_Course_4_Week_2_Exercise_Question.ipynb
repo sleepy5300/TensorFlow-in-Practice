{
  "nbformat": 4,
  "nbformat_minor": 0,
  "metadata": {
    "colab": {
      "name": "Copy of S+P Week 2 Exercise Question.ipynb",
      "provenance": [],
      "include_colab_link": true
    },
    "kernelspec": {
      "name": "python3",
      "display_name": "Python 3"
    },
    "accelerator": "GPU"
  },
  "cells": [
    {
      "cell_type": "markdown",
      "metadata": {
        "id": "view-in-github",
        "colab_type": "text"
      },
      "source": [
        "<a href=\"https://colab.research.google.com/github/sleepy5300/TensorFlow-in-Practice-Specialization/blob/master/opy_of_Course_4_Week_2_Exercise_Question.ipynb\" target=\"_parent\"><img src=\"https://colab.research.google.com/assets/colab-badge.svg\" alt=\"Open In Colab\"/></a>"
      ]
    },
    {
      "cell_type": "code",
      "metadata": {
        "id": "D1J15Vh_1Jih",
        "colab_type": "code",
        "cellView": "both",
        "outputId": "49973715-daa2-486a-d1a9-63dd178cee6f",
        "colab": {
          "base_uri": "https://localhost:8080/",
          "height": 750
        }
      },
      "source": [
        "!pip install tf-nightly-2.0-preview\n"
      ],
      "execution_count": 0,
      "outputs": [
        {
          "output_type": "stream",
          "text": [
            "Collecting tf-nightly-2.0-preview\n",
            "\u001b[?25l  Downloading https://files.pythonhosted.org/packages/b8/be/e4e2cc0b4896648fe6d5e45dda6d8c3b784823301708cfe4ff96de9e01cf/tf_nightly_2.0_preview-2.0.0.dev20191002-cp36-cp36m-manylinux2010_x86_64.whl (95.2MB)\n",
            "\u001b[K     |████████████████████████████████| 95.2MB 1.2MB/s \n",
            "\u001b[?25hRequirement already satisfied: keras-preprocessing>=1.0.5 in /usr/local/lib/python3.6/dist-packages (from tf-nightly-2.0-preview) (1.1.0)\n",
            "Requirement already satisfied: numpy<2.0,>=1.16.0 in /usr/local/lib/python3.6/dist-packages (from tf-nightly-2.0-preview) (1.16.5)\n",
            "Requirement already satisfied: protobuf>=3.6.1 in /usr/local/lib/python3.6/dist-packages (from tf-nightly-2.0-preview) (3.7.1)\n",
            "Requirement already satisfied: absl-py>=0.7.0 in /usr/local/lib/python3.6/dist-packages (from tf-nightly-2.0-preview) (0.8.0)\n",
            "Collecting tensorflow-estimator-2.0-preview (from tf-nightly-2.0-preview)\n",
            "\u001b[?25l  Downloading https://files.pythonhosted.org/packages/db/f5/790508e193121ab301cb40cada7f451c531404051ac9249f21b1f5484450/tensorflow_estimator_2.0_preview-2.0.0-py2.py3-none-any.whl (449kB)\n",
            "\u001b[K     |████████████████████████████████| 450kB 43.1MB/s \n",
            "\u001b[?25hRequirement already satisfied: wheel>=0.26; python_version >= \"3\" in /usr/local/lib/python3.6/dist-packages (from tf-nightly-2.0-preview) (0.33.6)\n",
            "Requirement already satisfied: opt-einsum>=2.3.2 in /usr/local/lib/python3.6/dist-packages (from tf-nightly-2.0-preview) (3.0.1)\n",
            "Requirement already satisfied: grpcio>=1.8.6 in /usr/local/lib/python3.6/dist-packages (from tf-nightly-2.0-preview) (1.15.0)\n",
            "Requirement already satisfied: wrapt>=1.11.1 in /usr/local/lib/python3.6/dist-packages (from tf-nightly-2.0-preview) (1.11.2)\n",
            "Requirement already satisfied: google-pasta>=0.1.6 in /usr/local/lib/python3.6/dist-packages (from tf-nightly-2.0-preview) (0.1.7)\n",
            "Requirement already satisfied: termcolor>=1.1.0 in /usr/local/lib/python3.6/dist-packages (from tf-nightly-2.0-preview) (1.1.0)\n",
            "Requirement already satisfied: astor>=0.6.0 in /usr/local/lib/python3.6/dist-packages (from tf-nightly-2.0-preview) (0.8.0)\n",
            "Collecting tb-nightly<2.2.0a0,>=2.1.0a0 (from tf-nightly-2.0-preview)\n",
            "\u001b[?25l  Downloading https://files.pythonhosted.org/packages/10/f1/68da3d2aac0c14a064a3587f9a79f9ee4a49e4d67809ac05bcf9f076e28e/tb_nightly-2.1.0a20191003-py3-none-any.whl (3.8MB)\n",
            "\u001b[K     |████████████████████████████████| 3.8MB 39.0MB/s \n",
            "\u001b[?25hRequirement already satisfied: six>=1.10.0 in /usr/local/lib/python3.6/dist-packages (from tf-nightly-2.0-preview) (1.12.0)\n",
            "Requirement already satisfied: keras-applications>=1.0.8 in /usr/local/lib/python3.6/dist-packages (from tf-nightly-2.0-preview) (1.0.8)\n",
            "Collecting gast==0.2.2 (from tf-nightly-2.0-preview)\n",
            "  Downloading https://files.pythonhosted.org/packages/4e/35/11749bf99b2d4e3cceb4d55ca22590b0d7c2c62b9de38ac4a4a7f4687421/gast-0.2.2.tar.gz\n",
            "Requirement already satisfied: setuptools in /usr/local/lib/python3.6/dist-packages (from protobuf>=3.6.1->tf-nightly-2.0-preview) (41.2.0)\n",
            "Requirement already satisfied: markdown>=2.6.8 in /usr/local/lib/python3.6/dist-packages (from tb-nightly<2.2.0a0,>=2.1.0a0->tf-nightly-2.0-preview) (3.1.1)\n",
            "Requirement already satisfied: werkzeug>=0.11.15 in /usr/local/lib/python3.6/dist-packages (from tb-nightly<2.2.0a0,>=2.1.0a0->tf-nightly-2.0-preview) (0.16.0)\n",
            "Requirement already satisfied: h5py in /usr/local/lib/python3.6/dist-packages (from keras-applications>=1.0.8->tf-nightly-2.0-preview) (2.8.0)\n",
            "Building wheels for collected packages: gast\n",
            "  Building wheel for gast (setup.py) ... \u001b[?25l\u001b[?25hdone\n",
            "  Created wheel for gast: filename=gast-0.2.2-cp36-none-any.whl size=7540 sha256=ad650a1a29db528aedfb5490818c37698ed00ad41f556e5fc38701ed017d8249\n",
            "  Stored in directory: /root/.cache/pip/wheels/5c/2e/7e/a1d4d4fcebe6c381f378ce7743a3ced3699feb89bcfbdadadd\n",
            "Successfully built gast\n",
            "Installing collected packages: tensorflow-estimator-2.0-preview, tb-nightly, gast, tf-nightly-2.0-preview\n",
            "  Found existing installation: gast 0.3.2\n",
            "    Uninstalling gast-0.3.2:\n",
            "      Successfully uninstalled gast-0.3.2\n",
            "Successfully installed gast-0.2.2 tb-nightly-2.1.0a20191003 tensorflow-estimator-2.0-preview-2.0.0 tf-nightly-2.0-preview-2.0.0.dev20191002\n"
          ],
          "name": "stdout"
        },
        {
          "output_type": "display_data",
          "data": {
            "application/vnd.colab-display-data+json": {
              "pip_warning": {
                "packages": [
                  "gast",
                  "tensorboard",
                  "tensorflow",
                  "tensorflow_estimator"
                ]
              }
            }
          },
          "metadata": {
            "tags": []
          }
        }
      ]
    },
    {
      "cell_type": "code",
      "metadata": {
        "id": "BOjujz601HcS",
        "colab_type": "code",
        "outputId": "371d62c3-3f0a-4afd-9b4f-37a077ee34fb",
        "colab": {
          "base_uri": "https://localhost:8080/",
          "height": 34
        }
      },
      "source": [
        "import tensorflow as tf\n",
        "import numpy as np\n",
        "import matplotlib.pyplot as plt\n",
        "print(tf.__version__)"
      ],
      "execution_count": 0,
      "outputs": [
        {
          "output_type": "stream",
          "text": [
            "2.0.0-dev20191002\n"
          ],
          "name": "stdout"
        }
      ]
    },
    {
      "cell_type": "code",
      "metadata": {
        "colab_type": "code",
        "id": "Zswl7jRtGzkk",
        "outputId": "9e9ef6e1-a833-40e1-d548-0a5546e3e164",
        "colab": {
          "base_uri": "https://localhost:8080/",
          "height": 283
        }
      },
      "source": [
        "def plot_series(time, series, format=\"-\", start=0, end=None):\n",
        "    plt.plot(time[start:end], series[start:end], format)\n",
        "    plt.xlabel(\"Time\")\n",
        "    plt.ylabel(\"Value\")\n",
        "    plt.grid(False)\n",
        "\n",
        "def trend(time, slope=0):\n",
        "    return slope * time\n",
        "\n",
        "def seasonal_pattern(season_time):\n",
        "    \"\"\"Just an arbitrary pattern, you can change it if you wish\"\"\"\n",
        "    return np.where(season_time < 0.1,\n",
        "                    np.cos(season_time * 6 * np.pi),\n",
        "                    2 / np.exp(9 * season_time))\n",
        "\n",
        "def seasonality(time, period, amplitude=1, phase=0):\n",
        "    \"\"\"Repeats the same pattern at each period\"\"\"\n",
        "    season_time = ((time + phase) % period) / period\n",
        "    return amplitude * seasonal_pattern(season_time)\n",
        "\n",
        "def noise(time, noise_level=1, seed=None):\n",
        "    rnd = np.random.RandomState(seed)\n",
        "    return rnd.randn(len(time)) * noise_level\n",
        "\n",
        "time = np.arange(10 * 365 + 1, dtype=\"float32\")\n",
        "baseline = 10\n",
        "series = trend(time, 0.1)  \n",
        "baseline = 10\n",
        "amplitude = 40\n",
        "slope = 0.005\n",
        "noise_level = 3\n",
        "\n",
        "# Create the series\n",
        "series = baseline + trend(time, slope) + seasonality(time, period=365, amplitude=amplitude)\n",
        "# Update with noise\n",
        "series += noise(time, noise_level, seed=51)\n",
        "\n",
        "split_time = 3000\n",
        "time_train = time[:split_time]\n",
        "x_train = series[:split_time]\n",
        "time_valid = time[split_time:]\n",
        "x_valid = series[split_time:]\n",
        "\n",
        "window_size = 20\n",
        "batch_size = 32\n",
        "shuffle_buffer_size = 1000\n",
        "\n",
        "plot_series(time, series)"
      ],
      "execution_count": 0,
      "outputs": [
        {
          "output_type": "display_data",
          "data": {
            "image/png": "[encoded data removed]",
            "text/plain": [
              "<Figure size 432x288 with 1 Axes>"
            ]
          },
          "metadata": {
            "tags": []
          }
        }
      ]
    },
    {
      "cell_type": "markdown",
      "metadata": {
        "id": "GfUTNqti_lNC",
        "colab_type": "text"
      },
      "source": [
        "Desired output -- a chart that looks like this:\n",
        "\n",
        "![Chart showing upward trend and seasonailty](http://www.laurencemoroney.com/wp-content/uploads/2019/07/plot1.png)"
      ]
    },
    {
      "cell_type": "code",
      "metadata": {
        "id": "4sTTIOCbyShY",
        "colab_type": "code",
        "colab": {}
      },
      "source": [
        "def windowed_dataset(series, window_size, batch_size, shuffle_buffer):\n",
        "  dataset = tf.data.Dataset.from_tensor_slices(series)\n",
        "  dataset = dataset.window(window_size + 1, shift=1, drop_remainder=True)\n",
        "  dataset = dataset.flat_map(lambda window: window.batch(window_size + 1))\n",
        "  dataset = dataset.shuffle(shuffle_buffer).map(lambda window: (window[:-1], window[-1]))\n",
        "  dataset = dataset.batch(batch_size).prefetch(1)\n",
        "  return dataset"
      ],
      "execution_count": 0,
      "outputs": []
    },
    {
      "cell_type": "code",
      "metadata": {
        "id": "TW-vT7eLYAdb",
        "colab_type": "code",
        "outputId": "cc814860-654e-4cae-f3ff-d4f783c000d0",
        "colab": {
          "base_uri": "https://localhost:8080/",
          "height": 1000
        }
      },
      "source": [
        "dataset = windowed_dataset(x_train, window_size, batch_size, shuffle_buffer_size)\n",
        "\n",
        "\n",
        "model = tf.keras.models.Sequential([\n",
        "    tf.keras.layers.Dense(window_size * 2, activation='relu', input_shape=[window_size]),\n",
        "    tf.keras.layers.Dense(window_size, activation='relu'), \n",
        "    tf.keras.layers.Dense(1)\n",
        "])\n",
        "\n",
        "#model.compile(loss=\"mse\", optimizer=tf.keras.optimizers.SGD(lr=1e-6, momentum=0.9))\n",
        "model.compile(loss=\"mse\", optimizer='adam')\n",
        "history = model.fit(dataset,epochs=100,verbose=1)\n",
        "\n"
      ],
      "execution_count": 0,
      "outputs": [
        {
          "output_type": "stream",
          "text": [
            "Epoch 1/100\n",
            "94/94 [==============================] - 1s 12ms/step - loss: 41.0319\n",
            "Epoch 2/100\n",
            "94/94 [==============================] - 1s 6ms/step - loss: 27.8876\n",
            "Epoch 3/100\n",
            "94/94 [==============================] - 1s 5ms/step - loss: 25.6869\n",
            "Epoch 4/100\n",
            "94/94 [==============================] - 0s 5ms/step - loss: 24.3597\n",
            "Epoch 5/100\n",
            "94/94 [==============================] - 0s 5ms/step - loss: 23.2904\n",
            "Epoch 6/100\n",
            "94/94 [==============================] - 0s 5ms/step - loss: 22.9565\n",
            "Epoch 7/100\n",
            "94/94 [==============================] - 0s 5ms/step - loss: 22.3920\n",
            "Epoch 8/100\n",
            "94/94 [==============================] - 1s 6ms/step - loss: 22.8464\n",
            "Epoch 9/100\n",
            "94/94 [==============================] - 0s 5ms/step - loss: 21.9108\n",
            "Epoch 10/100\n",
            "94/94 [==============================] - 1s 5ms/step - loss: 21.0869\n",
            "Epoch 11/100\n",
            "94/94 [==============================] - 0s 5ms/step - loss: 21.1101\n",
            "Epoch 12/100\n",
            "94/94 [==============================] - 1s 6ms/step - loss: 20.5589\n",
            "Epoch 13/100\n",
            "94/94 [==============================] - 1s 6ms/step - loss: 20.7308\n",
            "Epoch 14/100\n",
            "94/94 [==============================] - 1s 5ms/step - loss: 21.2224\n",
            "Epoch 15/100\n",
            "94/94 [==============================] - 0s 5ms/step - loss: 20.5109\n",
            "Epoch 16/100\n",
            "94/94 [==============================] - 1s 5ms/step - loss: 20.4239\n",
            "Epoch 17/100\n",
            "94/94 [==============================] - 0s 5ms/step - loss: 19.8281\n",
            "Epoch 18/100\n",
            "94/94 [==============================] - 1s 6ms/step - loss: 21.0256\n",
            "Epoch 19/100\n",
            "94/94 [==============================] - 1s 5ms/step - loss: 20.3846\n",
            "Epoch 20/100\n",
            "94/94 [==============================] - 0s 5ms/step - loss: 19.6985\n",
            "Epoch 21/100\n",
            "94/94 [==============================] - 1s 5ms/step - loss: 19.8336\n",
            "Epoch 22/100\n",
            "94/94 [==============================] - 0s 5ms/step - loss: 20.5156\n",
            "Epoch 23/100\n",
            "94/94 [==============================] - 0s 5ms/step - loss: 19.9726\n",
            "Epoch 24/100\n",
            "94/94 [==============================] - 1s 6ms/step - loss: 20.0698\n",
            "Epoch 25/100\n",
            "94/94 [==============================] - 0s 5ms/step - loss: 20.2054\n",
            "Epoch 26/100\n",
            "94/94 [==============================] - 1s 6ms/step - loss: 19.9852\n",
            "Epoch 27/100\n",
            "94/94 [==============================] - 0s 5ms/step - loss: 19.0761\n",
            "Epoch 28/100\n",
            "94/94 [==============================] - 1s 6ms/step - loss: 19.7393\n",
            "Epoch 29/100\n",
            "94/94 [==============================] - 1s 5ms/step - loss: 19.0348\n",
            "Epoch 30/100\n",
            "94/94 [==============================] - 1s 6ms/step - loss: 19.4204\n",
            "Epoch 31/100\n",
            "94/94 [==============================] - 0s 5ms/step - loss: 19.6906\n",
            "Epoch 32/100\n",
            "94/94 [==============================] - 0s 5ms/step - loss: 19.4901\n",
            "Epoch 33/100\n",
            "94/94 [==============================] - 1s 6ms/step - loss: 19.4505\n",
            "Epoch 34/100\n",
            "94/94 [==============================] - 0s 5ms/step - loss: 18.7143\n",
            "Epoch 35/100\n",
            "94/94 [==============================] - 0s 5ms/step - loss: 19.2339\n",
            "Epoch 36/100\n",
            "94/94 [==============================] - 0s 5ms/step - loss: 18.7840\n",
            "Epoch 37/100\n",
            "94/94 [==============================] - 0s 5ms/step - loss: 19.7177\n",
            "Epoch 38/100\n",
            "94/94 [==============================] - 0s 5ms/step - loss: 19.7457\n",
            "Epoch 39/100\n",
            "94/94 [==============================] - 0s 5ms/step - loss: 19.7312\n",
            "Epoch 40/100\n",
            "94/94 [==============================] - 1s 6ms/step - loss: 18.9655\n",
            "Epoch 41/100\n",
            "94/94 [==============================] - 0s 5ms/step - loss: 18.6162\n",
            "Epoch 42/100\n",
            "94/94 [==============================] - 1s 6ms/step - loss: 19.6594\n",
            "Epoch 43/100\n",
            "94/94 [==============================] - 0s 5ms/step - loss: 18.7633\n",
            "Epoch 44/100\n",
            "94/94 [==============================] - 1s 6ms/step - loss: 18.9275\n",
            "Epoch 45/100\n",
            "94/94 [==============================] - 1s 5ms/step - loss: 18.9046\n",
            "Epoch 46/100\n",
            "94/94 [==============================] - 1s 6ms/step - loss: 19.1053\n",
            "Epoch 47/100\n",
            "94/94 [==============================] - 1s 5ms/step - loss: 18.8994\n",
            "Epoch 48/100\n",
            "94/94 [==============================] - 1s 6ms/step - loss: 18.7963\n",
            "Epoch 49/100\n",
            "94/94 [==============================] - 1s 5ms/step - loss: 18.7517\n",
            "Epoch 50/100\n",
            "94/94 [==============================] - 1s 6ms/step - loss: 18.8589\n",
            "Epoch 51/100\n",
            "94/94 [==============================] - 0s 5ms/step - loss: 18.3638\n",
            "Epoch 52/100\n",
            "94/94 [==============================] - 1s 6ms/step - loss: 18.9549\n",
            "Epoch 53/100\n",
            "94/94 [==============================] - 0s 5ms/step - loss: 18.0851\n",
            "Epoch 54/100\n",
            "94/94 [==============================] - 0s 5ms/step - loss: 18.9105\n",
            "Epoch 55/100\n",
            "94/94 [==============================] - 1s 6ms/step - loss: 17.9900\n",
            "Epoch 56/100\n",
            "94/94 [==============================] - 1s 5ms/step - loss: 18.9674\n",
            "Epoch 57/100\n",
            "94/94 [==============================] - 0s 5ms/step - loss: 17.9686\n",
            "Epoch 58/100\n",
            "94/94 [==============================] - 0s 5ms/step - loss: 18.1764\n",
            "Epoch 59/100\n",
            "94/94 [==============================] - 0s 5ms/step - loss: 18.7113\n",
            "Epoch 60/100\n",
            "94/94 [==============================] - 0s 5ms/step - loss: 18.6354\n",
            "Epoch 61/100\n",
            "94/94 [==============================] - 0s 5ms/step - loss: 18.0238\n",
            "Epoch 62/100\n",
            "94/94 [==============================] - 0s 5ms/step - loss: 19.1466\n",
            "Epoch 63/100\n",
            "94/94 [==============================] - 0s 5ms/step - loss: 18.6040\n",
            "Epoch 64/100\n",
            "94/94 [==============================] - 1s 6ms/step - loss: 18.7425\n",
            "Epoch 65/100\n",
            "94/94 [==============================] - 1s 5ms/step - loss: 18.3628\n",
            "Epoch 66/100\n",
            "94/94 [==============================] - 0s 5ms/step - loss: 18.2174\n",
            "Epoch 67/100\n",
            "94/94 [==============================] - 1s 6ms/step - loss: 18.1459\n",
            "Epoch 68/100\n",
            "94/94 [==============================] - 1s 6ms/step - loss: 17.9329\n",
            "Epoch 69/100\n",
            "94/94 [==============================] - 1s 5ms/step - loss: 18.2193\n",
            "Epoch 70/100\n",
            "94/94 [==============================] - 0s 5ms/step - loss: 18.0410\n",
            "Epoch 71/100\n",
            "94/94 [==============================] - 0s 5ms/step - loss: 18.4774\n",
            "Epoch 72/100\n",
            "94/94 [==============================] - 0s 5ms/step - loss: 18.7966\n",
            "Epoch 73/100\n",
            "94/94 [==============================] - 0s 5ms/step - loss: 21.1559\n",
            "Epoch 74/100\n",
            "94/94 [==============================] - 1s 5ms/step - loss: 18.5690\n",
            "Epoch 75/100\n",
            "94/94 [==============================] - 1s 6ms/step - loss: 18.4381\n",
            "Epoch 76/100\n",
            "94/94 [==============================] - 0s 5ms/step - loss: 18.9413\n",
            "Epoch 77/100\n",
            "94/94 [==============================] - 0s 5ms/step - loss: 18.2471\n",
            "Epoch 78/100\n",
            "94/94 [==============================] - 0s 5ms/step - loss: 17.7870\n",
            "Epoch 79/100\n",
            "94/94 [==============================] - 0s 5ms/step - loss: 18.5084\n",
            "Epoch 80/100\n",
            "94/94 [==============================] - 1s 6ms/step - loss: 18.3178\n",
            "Epoch 81/100\n",
            "94/94 [==============================] - 1s 6ms/step - loss: 19.3084\n",
            "Epoch 82/100\n",
            "94/94 [==============================] - 0s 5ms/step - loss: 17.8220\n",
            "Epoch 83/100\n",
            "94/94 [==============================] - 0s 5ms/step - loss: 18.8164\n",
            "Epoch 84/100\n",
            "94/94 [==============================] - 1s 5ms/step - loss: 17.8658\n",
            "Epoch 85/100\n",
            "94/94 [==============================] - 0s 5ms/step - loss: 17.5887\n",
            "Epoch 86/100\n",
            "94/94 [==============================] - 1s 6ms/step - loss: 18.0895\n",
            "Epoch 87/100\n",
            "94/94 [==============================] - 1s 5ms/step - loss: 17.8521\n",
            "Epoch 88/100\n",
            "94/94 [==============================] - 0s 5ms/step - loss: 18.2405\n",
            "Epoch 89/100\n",
            "94/94 [==============================] - 0s 5ms/step - loss: 18.0799\n",
            "Epoch 90/100\n",
            "94/94 [==============================] - 0s 5ms/step - loss: 17.6995\n",
            "Epoch 91/100\n",
            "94/94 [==============================] - 0s 5ms/step - loss: 17.0610\n",
            "Epoch 92/100\n",
            "94/94 [==============================] - 0s 5ms/step - loss: 17.7520\n",
            "Epoch 93/100\n",
            "94/94 [==============================] - 1s 6ms/step - loss: 17.2986\n",
            "Epoch 94/100\n",
            "94/94 [==============================] - 1s 5ms/step - loss: 17.9825\n",
            "Epoch 95/100\n",
            "94/94 [==============================] - 1s 5ms/step - loss: 17.3666\n",
            "Epoch 96/100\n",
            "94/94 [==============================] - 0s 5ms/step - loss: 17.5439\n",
            "Epoch 97/100\n",
            "94/94 [==============================] - 0s 5ms/step - loss: 16.7221\n",
            "Epoch 98/100\n",
            "94/94 [==============================] - 1s 6ms/step - loss: 17.6802\n",
            "Epoch 99/100\n",
            "94/94 [==============================] - 1s 6ms/step - loss: 17.5230\n",
            "Epoch 100/100\n",
            "94/94 [==============================] - 1s 5ms/step - loss: 17.8758\n"
          ],
          "name": "stdout"
        }
      ]
    },
    {
      "cell_type": "code",
      "metadata": {
        "id": "efhco2rYyIFF",
        "colab_type": "code",
        "outputId": "2b773cca-23c7-4eb7-d192-f44743c43fa1",
        "colab": {
          "base_uri": "https://localhost:8080/",
          "height": 392
        }
      },
      "source": [
        "forecast = []\n",
        "for time in range(len(series) - window_size):\n",
        "  forecast.append(model.predict(series[time:time + window_size][np.newaxis]))\n",
        "\n",
        "forecast = forecast[split_time-window_size:]\n",
        "results = np.array(forecast)[:, 0, 0]\n",
        "\n",
        "\n",
        "plt.figure(figsize=(10, 6))\n",
        "\n",
        "plot_series(time_valid, x_valid)\n",
        "plot_series(time_valid, results)"
      ],
      "execution_count": 0,
      "outputs": [
        {
          "output_type": "display_data",
          "data": {
            "image/png": "[encoded data removed]",
            "text/plain": [
              "<Figure size 720x432 with 1 Axes>"
            ]
          },
          "metadata": {
            "tags": []
          }
        }
      ]
    },
    {
      "cell_type": "code",
      "metadata": {
        "id": "-kT6j186YO6K",
        "colab_type": "code",
        "outputId": "a05471a7-2770-4b0f-c597-7b1151e04fd0",
        "colab": {
          "base_uri": "https://localhost:8080/",
          "height": 34
        }
      },
      "source": [
        "tf.keras.metrics.mean_absolute_error(x_valid, results).numpy()\n",
        "# EXPECTED OUTPUT\n",
        "# A Value less than 3"
      ],
      "execution_count": 0,
      "outputs": [
        {
          "output_type": "execute_result",
          "data": {
            "text/plain": [
              "2.8372643"
            ]
          },
          "metadata": {
            "tags": []
          },
          "execution_count": 13
        }
      ]
    }
  ]
}
